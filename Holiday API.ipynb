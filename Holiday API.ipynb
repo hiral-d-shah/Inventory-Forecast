{
 "cells": [
  {
   "cell_type": "code",
   "execution_count": 1,
   "id": "27845247-effe-4d89-a7e9-e11423e0b0e8",
   "metadata": {},
   "outputs": [],
   "source": [
    "import pandas as pd\n",
    "import numpy as np\n",
    "\n",
    "import matplotlib.pyplot as plt\n",
    "import seaborn as sns\n",
    "\n",
    "import requests\n",
    "import time"
   ]
  },
  {
   "cell_type": "code",
   "execution_count": 2,
   "id": "9ba5217c-6932-4cc1-a897-ceb3fdbe1421",
   "metadata": {},
   "outputs": [],
   "source": [
    "orders = pd.read_csv(\"orders.csv\", low_memory=False)\n",
    "archive_orders = pd.read_csv(\"archive_orders.csv\", low_memory=False)\n",
    "bundle_orders = pd.read_csv(\"bundle_orders.csv\", low_memory=False)"
   ]
  },
  {
   "cell_type": "code",
   "execution_count": 3,
   "id": "8b3a93ed-4b60-461a-9c04-92737daff71d",
   "metadata": {},
   "outputs": [],
   "source": [
    "final_orders = pd.concat([archive_orders, orders, bundle_orders], ignore_index=True)\n",
    "final_orders = final_orders[final_orders['delivery_date'] != '0001-11-30']\n",
    "final_orders['delivery_date'] = final_orders['delivery_date'].str.replace('0022', '2022', regex=False)\n",
    "final_orders['delivery_date'] = pd.to_datetime(final_orders['delivery_date'])"
   ]
  },
  {
   "cell_type": "code",
   "execution_count": 4,
   "id": "8768e1a7-4d0b-4b35-9b4b-b30ad816cdb3",
   "metadata": {},
   "outputs": [],
   "source": [
    "final_orders['day'] = final_orders['delivery_date'].dt.day\n",
    "final_orders['month'] = final_orders['delivery_date'].dt.month\n",
    "final_orders['year'] = final_orders['delivery_date'].dt.year"
   ]
  },
  {
   "cell_type": "code",
   "execution_count": 5,
   "id": "ea1adc92-9aa3-4f37-9d81-18cdf0667ace",
   "metadata": {},
   "outputs": [],
   "source": [
    "dates = final_orders.groupby(['year', 'month', 'day'])['delivery_date'].count().reset_index()\n",
    "dates = dates[['year', 'month', 'day']]"
   ]
  },
  {
   "cell_type": "code",
   "execution_count": 6,
   "id": "6811eb66-973c-4c6f-962c-158a4ba24863",
   "metadata": {},
   "outputs": [],
   "source": [
    "all_holidays = []\n",
    "for index, row in dates.iterrows():\n",
    "    url = f\"{base_url}&year={row.year}&month={row.month}&day={row.day}\"\n",
    "    response = requests.get(url)\n",
    "    if response.status_code == 200:\n",
    "        j = response.json()\n",
    "        holidays = pd.DataFrame(j)\n",
    "        all_holidays.append(holidays)\n",
    "    else:\n",
    "        print(f\"Failed to fetch holidays for year {year}. Status code: {response.status_code}\")\n",
    "    time.sleep(2)\n",
    "holiday_list = pd.concat(all_holidays, ignore_index=True)"
   ]
  },
  {
   "cell_type": "code",
   "execution_count": 7,
   "id": "167b4c3f-28b5-4536-8270-5d5b9d0bcbc5",
   "metadata": {},
   "outputs": [],
   "source": [
    "holiday_list.to_csv('holiday-list.csv', index=True)"
   ]
  },
  {
   "cell_type": "code",
   "execution_count": null,
   "id": "60ddd775-3901-4ede-98b7-dbd731931d00",
   "metadata": {},
   "outputs": [],
   "source": []
  }
 ],
 "metadata": {
  "kernelspec": {
   "display_name": "Python 3 (ipykernel)",
   "language": "python",
   "name": "python3"
  },
  "language_info": {
   "codemirror_mode": {
    "name": "ipython",
    "version": 3
   },
   "file_extension": ".py",
   "mimetype": "text/x-python",
   "name": "python",
   "nbconvert_exporter": "python",
   "pygments_lexer": "ipython3",
   "version": "3.10.5"
  }
 },
 "nbformat": 4,
 "nbformat_minor": 5
}
